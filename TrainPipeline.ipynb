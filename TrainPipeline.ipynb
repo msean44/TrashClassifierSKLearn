{
 "cells": [
  {
   "cell_type": "code",
   "execution_count": null,
   "id": "0d9accf8-c38f-4e90-b6bf-7adb94b6f176",
   "metadata": {},
   "outputs": [],
   "source": [
    "import os\n",
    "import numpy as np\n",
    "from PIL import Image\n",
    "from sklearn.model_selection import train_test_split, GridSearchCV\n",
    "from sklearn.decomposition import PCA\n",
    "from sklearn.preprocessing import StandardScaler, LabelEncoder\n",
    "from sklearn.pipeline import Pipeline\n",
    "from sklearn.neural_network import MLPClassifier\n",
    "from sklearn.metrics import classification_report, confusion_matrix\n"
   ]
  },
  {
   "cell_type": "code",
   "execution_count": null,
   "id": "1b2fb647-43b0-4fa2-9e7c-84447c9dbc4f",
   "metadata": {},
   "outputs": [],
   "source": [
    "# 1) Load images and labels from directory structure:\n",
    "def load_data(root_dir, img_size=(64,64)):\n",
    "    X, y = [], []\n",
    "    classes = sorted(os.listdir(root_dir))\n",
    "    for label in classes:\n",
    "        class_dir = os.path.join(root_dir, label)\n",
    "        if not os.path.isdir(class_dir): continue\n",
    "        for fn in os.listdir(class_dir):\n",
    "            path = os.path.join(class_dir, fn)\n",
    "            try:\n",
    "                img = Image.open(path).convert(\"RGB\").resize(img_size)\n",
    "                arr = np.array(img).flatten()   # → (64*64*3,)\n",
    "                X.append(arr)\n",
    "                y.append(label)\n",
    "            except Exception:\n",
    "                continue\n",
    "    return np.vstack(X), np.array(y)\n",
    "\n",
    "X, y = load_data(\"Trash Data/images\")\n",
    "print(f\"Loaded {X.shape[0]} samples, feature dim = {X.shape[1]}\")\n"
   ]
  },
  {
   "cell_type": "code",
   "execution_count": null,
   "id": "25843d22-fe8d-4156-960d-f55ade9ed9f8",
   "metadata": {},
   "outputs": [],
   "source": [
    "# 2) Encode string labels to integers\n",
    "le = LabelEncoder()\n",
    "y_enc = le.fit_transform(y) "
   ]
  },
  {
   "cell_type": "code",
   "execution_count": null,
   "id": "2e8f9b26-29fa-4aac-94d8-d0879c5ae3e0",
   "metadata": {},
   "outputs": [],
   "source": [
    "# 3) Split into train/test\n",
    "X_train, X_test, y_train, y_test = train_test_split(\n",
    "    X, y_enc, test_size=0.3, random_state=42, stratify=y_enc\n",
    ")\n",
    "\n",
    "# 4) Build a pipeline: scaling → PCA dim‐reduction → MLP classifier\n",
    "pipe = Pipeline([\n",
    "    (\"scaler\", StandardScaler()),\n",
    "    (\"pca\", PCA(n_components=50)),      # reduce to 50 features\n",
    "    (\"clf\", MLPClassifier(\n",
    "        hidden_layer_sizes=(100,),\n",
    "        activation='relu',\n",
    "        solver='adam',\n",
    "        max_iter=300,\n",
    "        random_state=42\n",
    "    )),\n",
    "])\n",
    "\n",
    "# 5) Hyperparameter search\n",
    "param_grid = {\n",
    "    \"pca__n_components\": [30, 50, 100],\n",
    "    \"clf__hidden_layer_sizes\": [(50,), (100,), (100,50)],\n",
    "}\n",
    "grid = GridSearchCV(pipe, param_grid, cv=3, n_jobs=-1, scoring=\"accuracy\")\n",
    "grid.fit(X_train, y_train)\n",
    "print(\"Best params:\", grid.best_params_)"
   ]
  },
  {
   "cell_type": "code",
   "execution_count": null,
   "id": "331c9c63-06b7-4473-af3d-530e231cd53b",
   "metadata": {},
   "outputs": [],
   "source": [
    "# 6) Evaluate on test set\n",
    "best_model = grid.best_estimator_\n",
    "y_pred = best_model.predict(X_test)\n",
    "\n",
    "print(\"\\nClassification Report:\")\n",
    "print(classification_report(y_test, y_pred, target_names=le.classes_))\n",
    "\n",
    "print(\"Confusion Matrix:\")\n",
    "print(confusion_matrix(y_test, y_pred))"
   ]
  },
  {
   "cell_type": "code",
   "execution_count": null,
   "id": "2a2a2d52-9637-4eb2-8acc-bace3a9adcef",
   "metadata": {},
   "outputs": [],
   "source": []
  },
  {
   "cell_type": "code",
   "execution_count": null,
   "id": "9dc3d264-5830-457d-959b-8109237d2a9f",
   "metadata": {},
   "outputs": [],
   "source": []
  },
  {
   "cell_type": "code",
   "execution_count": null,
   "id": "7917d5b3-ee6f-4d50-b7c4-122ee00e91cf",
   "metadata": {},
   "outputs": [],
   "source": []
  },
  {
   "cell_type": "code",
   "execution_count": null,
   "id": "53e8a143-7aef-4725-a06a-eaff72f7aa12",
   "metadata": {},
   "outputs": [],
   "source": []
  },
  {
   "cell_type": "code",
   "execution_count": null,
   "id": "e0af09de-804e-453e-9c09-31e22a52e9e4",
   "metadata": {},
   "outputs": [],
   "source": []
  }
 ],
 "metadata": {
  "kernelspec": {
   "display_name": "Python 3 (ipykernel)",
   "language": "python",
   "name": "python3"
  },
  "language_info": {
   "codemirror_mode": {
    "name": "ipython",
    "version": 3
   },
   "file_extension": ".py",
   "mimetype": "text/x-python",
   "name": "python",
   "nbconvert_exporter": "python",
   "pygments_lexer": "ipython3",
   "version": "3.13.2"
  }
 },
 "nbformat": 4,
 "nbformat_minor": 5
}
